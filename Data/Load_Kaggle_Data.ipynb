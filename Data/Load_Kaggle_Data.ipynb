{
  "nbformat": 4,
  "nbformat_minor": 0,
  "metadata": {
    "colab": {
      "name": "Load Kaggle Data.ipynb",
      "provenance": [],
      "include_colab_link": true
    },
    "kernelspec": {
      "name": "python3",
      "display_name": "Python 3"
    },
    "language_info": {
      "name": "python"
    }
  },
  "cells": [
    {
      "cell_type": "markdown",
      "metadata": {
        "id": "view-in-github",
        "colab_type": "text"
      },
      "source": [
        "<a href=\"https://colab.research.google.com/github/pvai-umich/SIADS697/blob/main/Data/Load_Kaggle_Data.ipynb\" target=\"_parent\"><img src=\"https://colab.research.google.com/assets/colab-badge.svg\" alt=\"Open In Colab\"/></a>"
      ]
    },
    {
      "cell_type": "markdown",
      "metadata": {
        "id": "7zz8DZ2f8fTk"
      },
      "source": [
        "# Load Data\n",
        "\n",
        "This notebook will contain the data loading scripts for the two kaggle data sets."
      ]
    },
    {
      "cell_type": "markdown",
      "metadata": {
        "id": "7hK7ZH-DDaxx"
      },
      "source": [
        "Set up the Kaggle login and API key:"
      ]
    },
    {
      "cell_type": "code",
      "metadata": {
        "id": "S5hHtqsmDXO4"
      },
      "source": [
        "import os\n",
        "import zipfile\n",
        "import pandas as pd\n",
        "\n",
        "#comment\n",
        "\n",
        "os.environ['KAGGLE_USERNAME'] = \"pvaiciunas\" # username from the json file\n",
        "os.environ['KAGGLE_KEY'] = \"fba13e65a047582a90e611238731617e\" # key from the json file"
      ],
      "execution_count": 1,
      "outputs": []
    },
    {
      "cell_type": "markdown",
      "metadata": {
        "id": "nW6UodHY9Y6S"
      },
      "source": [
        "## Kaggle Indeed Jobs Dataset\n",
        "\n",
        "Source:\n",
        "https://www.kaggle.com/promptcloud/indeed-job-posting-dataset\n",
        "\n",
        "The next code block will download the zip file, unzip, and read the csv file into a pandas dataframe."
      ]
    },
    {
      "cell_type": "code",
      "metadata": {
        "id": "n-EuzD-PDE1r",
        "colab": {
          "base_uri": "https://localhost:8080/"
        },
        "outputId": "55cec1cb-9985-48c6-b887-f0cac8c64bf4"
      },
      "source": [
        "!kaggle datasets download -d promptcloud/indeed-job-posting-dataset # api copied from kaggle\n",
        "\n",
        "with zipfile.ZipFile('indeed-job-posting-dataset.zip', 'r') as zip_ref:\n",
        "    zip_ref.extractall('/content')\n",
        "\n",
        "dat_indeed = pd.read_csv(\"home/sdf/marketing_sample_for_trulia_com-real_estate__20190901_20191031__30k_data.csv\")\n"
      ],
      "execution_count": 2,
      "outputs": [
        {
          "output_type": "stream",
          "text": [
            "Downloading indeed-job-posting-dataset.zip to /content\n",
            " 94% 45.0M/48.0M [00:00<00:00, 68.7MB/s]\n",
            "100% 48.0M/48.0M [00:00<00:00, 80.4MB/s]\n"
          ],
          "name": "stdout"
        }
      ]
    },
    {
      "cell_type": "markdown",
      "metadata": {
        "id": "zkLcYNBJDnHS"
      },
      "source": [
        "## Kaggle Monster Jobs Dataset\n",
        "\n",
        "Source:\n",
        "https://www.kaggle.com/PromptCloudHQ/us-jobs-on-monstercom\n",
        "\n",
        "The next code block will download the zip file, unzip, and read the csv file into a pandas dataframe."
      ]
    },
    {
      "cell_type": "code",
      "metadata": {
        "colab": {
          "base_uri": "https://localhost:8080/"
        },
        "id": "Bkw4ZPE_Cc7h",
        "outputId": "8994fe8a-0ed6-4a7a-862c-f0be6bcc2ef4"
      },
      "source": [
        "!kaggle datasets download -d PromptCloudHQ/us-jobs-on-monstercom\n",
        "\n",
        "with zipfile.ZipFile('us-jobs-on-monstercom.zip', 'r') as zip_ref:\n",
        "    zip_ref.extractall('/content')\n",
        "\n",
        "dat_monster = pd.read_csv(\"monster_com-job_sample.csv\")"
      ],
      "execution_count": 3,
      "outputs": [
        {
          "output_type": "stream",
          "text": [
            "Downloading us-jobs-on-monstercom.zip to /content\n",
            " 89% 17.0M/19.0M [00:00<00:00, 37.6MB/s]\n",
            "100% 19.0M/19.0M [00:00<00:00, 35.2MB/s]\n"
          ],
          "name": "stdout"
        }
      ]
    },
    {
      "cell_type": "markdown",
      "metadata": {
        "id": "--oBChxjbPMd"
      },
      "source": [
        "# Clean and Combine the Data\n"
      ]
    },
    {
      "cell_type": "markdown",
      "metadata": {
        "id": "r-dYFVi-U0vf"
      },
      "source": [
        "####Initial Thoughts\n",
        "\n",
        "Ideally we'd like to combine the two data sets. Both have a job description that we can tokenize pretty easily. However, the challenge becomes in creating usable target variables. \n",
        "\n",
        "There is some sector information. So ideally we'd like the target variable to be a combination of the two. We could have two different models, one for sector, and one for job title, or make it one model for 'sector - job title'. However, the sector/industry data isn't present for Indeed like it is for Monster.\n",
        "\n",
        "Getting both datasets on the same page though will be difficult."
      ]
    },
    {
      "cell_type": "markdown",
      "metadata": {
        "id": "B6OlImy5X4sp"
      },
      "source": [
        "#### Quick exploration code\n"
      ]
    },
    {
      "cell_type": "code",
      "metadata": {
        "id": "QUbkiDiWX7Ad",
        "colab": {
          "base_uri": "https://localhost:8080/"
        },
        "outputId": "f71f923b-7eff-4e0f-de88-9411b5448682"
      },
      "source": [
        "## Indeed Data\n",
        "#dat_indeed.head()\n",
        "#dat_indeed.columns\n",
        "#dat_indeed['Job Description'][0] # Source for features\n",
        "dat_indeed['Job Title'].value_counts()[0:50] # source for target variable\n",
        "\n",
        "## Monster Data\n",
        "#dat_monster.head()\n",
        "#dat_monster.columns\n",
        "#dat_monster['job_description'][0] # Source for features\n",
        "#dat_monster['job_title'].value_counts()[0:50] # Source for target variable\n",
        "#dat_monster['sector'].value_counts() # Source for target variable\n",
        "#dat_monster['organization'].value_counts() # Source for target variable\n",
        "\n"
      ],
      "execution_count": 28,
      "outputs": [
        {
          "output_type": "execute_result",
          "data": {
            "text/plain": [
              "Account Executive                       329\n",
              "Sales Associate/Beauty Advisor          209\n",
              "Account Manager                         192\n",
              "General Manager                         180\n",
              "Sales Associate, Retail Part Time       148\n",
              "Lids Assistant Manager Full-Time        128\n",
              "Customer Service Representative         124\n",
              "Store Manager                           120\n",
              "Lids Store Manager                      119\n",
              "Lids District Mgr in Training (DMIT)    112\n",
              "Business Development Representative     107\n",
              "Leasing Consultant                      107\n",
              "Retail Sales Teammate                   102\n",
              "Assistant Store Manager Trainee         102\n",
              "Sales Development Representative         94\n",
              "Sales Representative                     88\n",
              "Sales Associate                          85\n",
              "Management Trainee                       82\n",
              "Enterprise Account Executive             80\n",
              "Business Development Manager             74\n",
              "Assistant Manager                        72\n",
              "Product Manager                          71\n",
              "Marketing Manager                        71\n",
              "Retail Store Manager                     71\n",
              "Project Manager                          71\n",
              "Customer Success Manager                 69\n",
              "Marketing Coordinator                    67\n",
              "BEAUTY CONSULTANT                        61\n",
              "Inside Sales Representative              61\n",
              "Tax Preparer                             60\n",
              "Support Technician                       58\n",
              "Print & Marketing Associate              51\n",
              "FRONT END DEPARTMENT                     51\n",
              "Product Marketing Manager                50\n",
              "Staff Accountant                         48\n",
              "Part-Time Center Associate               48\n",
              "Administrative Assistant                 47\n",
              "Outside Sales Representative             46\n",
              "Sales Management Trainee                 45\n",
              "Sales Executive                          43\n",
              "Marketing Specialist                     42\n",
              "Omni-Channel Associate                   42\n",
              "Territory Manager                        42\n",
              "Advertising Sales Representative         41\n",
              "Tax Preparer I Store Operations          38\n",
              "Sales Manager                            38\n",
              "Supervisor, Copy & Print Marketing       38\n",
              "PT Perishable Associate                  36\n",
              "Retail Salesperson                       36\n",
              "Senior Account Executive                 34\n",
              "Name: Job Title, dtype: int64"
            ]
          },
          "metadata": {
            "tags": []
          },
          "execution_count": 28
        }
      ]
    },
    {
      "cell_type": "markdown",
      "metadata": {
        "id": "1lhtXydjWDaF"
      },
      "source": [
        "Create some graphs to show the prevalence of senior vs junior, as well as the concentrated nature of job types in the Indeed data"
      ]
    },
    {
      "cell_type": "code",
      "metadata": {
        "id": "q4xdAY2nWA22",
        "outputId": "fbee8bcc-70dd-4f7e-b53d-bd5d3c65f980",
        "colab": {
          "base_uri": "https://localhost:8080/",
          "height": 142
        }
      },
      "source": [
        "\n",
        "import seaborn as sns\n",
        "\n",
        "jobType_data = {'Title' : ['Sales',\n",
        "                             'Business Dev.',\n",
        "                             'Retail',\n",
        "                             'Finance',\n",
        "                             'Graphic Design',\n",
        "                             'Oil'],\n",
        "                  'Count' : [len(dat_indeed[dat_indeed['Job Title'].str.contains('Sales')]),\n",
        "                             len(dat_indeed[dat_indeed['Job Title'].str.contains('Business Development')]),\n",
        "                             len(dat_indeed[dat_indeed['Job Title'].str.contains('Retail')]),\n",
        "                             len(dat_indeed[dat_indeed['Job Title'].str.contains('Finan')]),\n",
        "                             len(dat_indeed[dat_indeed['Job Title'].str.contains('Graphic')]),\n",
        "                             len(dat_indeed[dat_indeed['Job Title'].str.contains('Oil')])]}\n",
        "jobType_df = pd.DataFrame(data = jobType_data)\n",
        "\n",
        "seniority_data = {'Title' : ['Senior / Executive',\n",
        "                             'Manager / Director',\n",
        "                             'Junior / Associate'],                             \n",
        "                  'Count' : [len(dat_indeed[dat_indeed['Job Title'].str.contains('Senior|Executive')]),\n",
        "                             len(dat_indeed[dat_indeed['Job Title'].str.contains('Manager|Director')]),\n",
        "                             len(dat_indeed[dat_indeed['Job Title'].str.contains('Junior|Associate|Trainee')])]}\n",
        "\n",
        "\n",
        "\n",
        "\n",
        "seniority_df = pd.DataFrame(data = seniority_data)\n",
        "\n",
        "seniority_df"
      ],
      "execution_count": 36,
      "outputs": [
        {
          "output_type": "execute_result",
          "data": {
            "text/html": [
              "<div>\n",
              "<style scoped>\n",
              "    .dataframe tbody tr th:only-of-type {\n",
              "        vertical-align: middle;\n",
              "    }\n",
              "\n",
              "    .dataframe tbody tr th {\n",
              "        vertical-align: top;\n",
              "    }\n",
              "\n",
              "    .dataframe thead th {\n",
              "        text-align: right;\n",
              "    }\n",
              "</style>\n",
              "<table border=\"1\" class=\"dataframe\">\n",
              "  <thead>\n",
              "    <tr style=\"text-align: right;\">\n",
              "      <th></th>\n",
              "      <th>Title</th>\n",
              "      <th>Count</th>\n",
              "    </tr>\n",
              "  </thead>\n",
              "  <tbody>\n",
              "    <tr>\n",
              "      <th>0</th>\n",
              "      <td>Senior / Executive</td>\n",
              "      <td>3592</td>\n",
              "    </tr>\n",
              "    <tr>\n",
              "      <th>1</th>\n",
              "      <td>Manager / Director</td>\n",
              "      <td>9206</td>\n",
              "    </tr>\n",
              "    <tr>\n",
              "      <th>2</th>\n",
              "      <td>Junior / Associate</td>\n",
              "      <td>2377</td>\n",
              "    </tr>\n",
              "  </tbody>\n",
              "</table>\n",
              "</div>"
            ],
            "text/plain": [
              "                Title  Count\n",
              "0  Senior / Executive   3592\n",
              "1  Manager / Director   9206\n",
              "2  Junior / Associate   2377"
            ]
          },
          "metadata": {
            "tags": []
          },
          "execution_count": 36
        }
      ]
    },
    {
      "cell_type": "markdown",
      "metadata": {
        "id": "5EJkYlsGHgJE"
      },
      "source": [
        "## Clean Indeed Data\n",
        "\n",
        "'Job Description' holds the main text we'll need for creating features. We can use gensim to tokenize the job description as well as\n",
        "add some common bigrams. Alternatively we can use TFID.\n",
        "\n",
        "The bigger challenge will be getting the target variable in a \n"
      ]
    },
    {
      "cell_type": "markdown",
      "metadata": {
        "id": "xYcKOh7bfmZW"
      },
      "source": [
        "#### Creating Target Variable\n",
        "\n",
        "There are many similar titles but have an extra word or something that doesn't let it be combined with others. Will do some manual cleaning to get as much overlap between titles as possible. This is being done iteratively and manually."
      ]
    },
    {
      "cell_type": "code",
      "metadata": {
        "id": "whFqhkr1fpID"
      },
      "source": [
        "# Create another version of the dat_indeed df so we can compare at the end\n",
        "dat_indeed = dat_indeed.copy()\n",
        "\n",
        "# manually identify areas where we can clean titles to get things more homogenous\n",
        "dat_indeed['Job Title'] = dat_indeed['Job Title'].str.replace('Lids ','')\n",
        "dat_indeed['Job Title'] = dat_indeed['Job Title'].str.replace('Senior ','')\n",
        "dat_indeed['Job Title'] = dat_indeed['Job Title'].str.replace('Junior ','')\n",
        "\n",
        "# Do some more specific cleaning of titles \n",
        "dat_indeed['Job Title'] = dat_indeed['Job Title'].str.replace(', Retail Part Time','')\n",
        "dat_indeed['Job Title'] = dat_indeed['Job Title'].str.replace('Sales Associate/Beauty Advisor','Beauty Advisor')\n",
        "dat_indeed['Job Title'] = dat_indeed['Job Title'].str.replace('BEAUTY CONSULTANT','Beauty Advisor')\n",
        "dat_indeed['Job Title'] = dat_indeed['Job Title'].str.replace(' I Store Operations','')\n",
        "dat_indeed['Job Title'] = dat_indeed['Job Title'].str.replace(' - Prospecting - Financial Solutions','')\n",
        "dat_indeed['Job Title'] = dat_indeed['Job Title'].str.replace('General Manager II','General Manager')\n",
        "dat_indeed['Job Title'] = dat_indeed['Job Title'].str.replace('Entry Level Business Development Trainee – Traveling','Business Development')\n",
        "dat_indeed['Job Title'] = dat_indeed['Job Title'].str.replace('District Mgr in Training (DMIT)','District Manager')\n",
        "dat_indeed['Job Title'] = dat_indeed['Job Title'].str.replace('HERO Assistant Store Manager Trainee (Military and Veterans)','Assistant Store Manager')\n",
        "dat_indeed['Job Title'] = dat_indeed['Job Title'].str.replace('Business Development Representative','Business Development')\n",
        "dat_indeed['Job Title'] = dat_indeed['Job Title'].str.replace('Enterprise Sales Account Executive','Enterprise Account Executive')\n",
        "dat_indeed['Job Title'] = dat_indeed['Job Title'].str.replace('STORE MANAGER','Store Manager')\n",
        "dat_indeed['Job Title'] = dat_indeed['Job Title'].str.replace(\"Macy's Locker Room Assistant Manager Full-Time\",'Assistant Manager')\n",
        "dat_indeed['Job Title'] = dat_indeed['Job Title'].str.replace('General Manager Full Time-GMA-203100','General Manager')\n",
        "dat_indeed['Job Title'] = dat_indeed['Job Title'].str.replace('Business Development Associate','Business Development')\n",
        "dat_indeed['Job Title'] = dat_indeed['Job Title'].str.replace('Merrill Lynch Financial Advisor Business Development Program','Financial Analyst')\n",
        "dat_indeed['Job Title'] = dat_indeed['Job Title'].str.replace('Business Development Associate','Business Development')\n",
        "dat_indeed['Job Title'] = dat_indeed['Job Title'].str.replace('Marketing Assistant','Marketing Associate')\n",
        "dat_indeed['Job Title'] = dat_indeed['Job Title'].str.replace(\"Macy's Locker Room Store Manager\",'Store Manager')\n",
        "dat_indeed['Job Title'] = dat_indeed['Job Title'].str.replace('Assistant Manager Full-Time','Assistant Manager')\n",
        "dat_indeed['Job Title'] = dat_indeed['Job Title'].str.replace('Sales Development Representative','Sales Representative')\n",
        "dat_indeed['Job Title'] = dat_indeed['Job Title'].str.replace('Enterprise Sales Executive','Sales Executive')\n",
        "dat_indeed['Job Title'] = dat_indeed['Job Title'].str.replace('Senior Account Executive','Account Executive')\n",
        "dat_indeed['Job Title'] = dat_indeed['Job Title'].str.replace('Sales Development Representative','Sales Representative')\n",
        "dat_indeed['Job Title'] = dat_indeed['Job Title'].str.replace('Inside Sales Representative','Sales Representative')\n",
        "dat_indeed['Job Title'] = dat_indeed['Job Title'].str.replace('Sales Representative','Sales Associate')\n",
        "dat_indeed['Job Title'] = dat_indeed['Job Title'].str.replace('Restaurant Associate-Horizon','Restaurant Associate')\n",
        "dat_indeed['Job Title'] = dat_indeed['Job Title'].str.replace('Beauty Consultant','Beauty Advisor')\n",
        "dat_indeed['Job Title'] = dat_indeed['Job Title'].str.replace('Associate Financial Advisor Development Program (AFADP)','Financial Advisor')\n",
        "dat_indeed['Job Title'] = dat_indeed['Job Title'].str.replace('Senior Financial Analyst','Financial Analyst')\n",
        "dat_indeed['Job Title'] = dat_indeed['Job Title'].str.replace('Store Manager in Training','Store Manager')\n",
        "dat_indeed['Job Title'] = dat_indeed['Job Title'].str.replace('Regional Sales Director','Sales Director')\n",
        "dat_indeed['Job Title'] = dat_indeed['Job Title'].str.replace('Seasonal Sales Associate','Sales Associate')\n",
        "dat_indeed['Job Title'] = dat_indeed['Job Title'].str.replace('Office Administrator','Administrator')\n",
        "dat_indeed['Job Title'] = dat_indeed['Job Title'].str.replace('Sales Associate (PT)','Sales Associate')\n",
        "dat_indeed['Job Title'] = dat_indeed['Job Title'].str.replace('PT Perishable Associate','Perishable Associate')\n",
        "dat_indeed['Job Title'] = dat_indeed['Job Title'].str.replace('FT Perishable Associate','Perishable Associate')\n",
        "dat_indeed['Job Title'] = dat_indeed['Job Title'].str.replace('Business Development Manager','Business Development')\n",
        "dat_indeed['Job Title'] = dat_indeed['Job Title'].str.replace('Salesperson','Sales Associate')\n",
        "dat_indeed['Job Title'] = dat_indeed['Job Title'].str.replace('Sales Director','Sales Executive')\n",
        "dat_indeed['Job Title'] = dat_indeed['Job Title'].str.replace('Purchasing Agent','Buyer')\n",
        "dat_indeed['Job Title'] = dat_indeed['Job Title'].str.replace('Director of Sales','Sales Director')\n",
        "dat_indeed['Job Title'] = dat_indeed['Job Title'].str.replace('Business Analyst','Financial Analyst')\n",
        "dat_indeed['Job Title'] = dat_indeed['Job Title'].str.replace('Staff Accountant','Accountant')\n",
        "dat_indeed['Job Title'] = dat_indeed['Job Title'].str.replace('Accounting Manager','Accountant')\n",
        "dat_indeed2['Job Title'] = dat_indeed2['Job Title'].str.replace('Sr. Financial Analyst','Financial Analyst')\n",
        "dat_indeed2['Job Title'] = dat_indeed2['Job Title'].str.replace('Finance Manager','Financial Analyst')\n",
        "dat_indeed2['Job Title'] = dat_indeed2['Job Title'].str.replace('Associate Financial Advisor Development Program (AFADP)','Financial Analyst')\n",
        "\n",
        "\n",
        "\n",
        "# Want to add some more of these titles if possible\n",
        "#dat_indeed2['Job Title'] = dat_indeed2['Job Title'].str.replace('','Software Engineer')\n",
        "#dat_indeed2['Job Title'] = dat_indeed2['Job Title'].str.replace('','Financial Analyst')\n",
        "#dat_indeed2['Job Title'] = dat_indeed2['Job Title'].str.replace('','Staff Accountant')\n",
        "#dat_indeed2['Job Title'] = dat_indeed2['Job Title'].str.replace('','Marketing Associate')\n",
        "#dat_indeed2['Job Title'] = dat_indeed2['Job Title'].str.replace('','Graphic Designer')\n",
        "\n",
        "\n",
        "# And a whole section on data-related ones so that we can include 'data scientist' in the results\n",
        "dat_indeed['Job Title'] = dat_indeed['Job Title'].str.replace('Finance Data Analyst','Data Scientist')\n",
        "dat_indeed['Job Title'] = dat_indeed['Job Title'].str.replace('Marketing Data Analyst','Data Scientist')\n",
        "dat_indeed['Job Title'] = dat_indeed['Job Title'].str.replace('Business Data Analyst','Data Scientist')\n",
        "dat_indeed['Job Title'] = dat_indeed['Job Title'].str.replace('Cloud Data Architect','Data Scientist')\n",
        "dat_indeed['Job Title'] = dat_indeed['Job Title'].str.replace('Azure Data Architect ','Data Scientist')\n",
        "dat_indeed['Job Title'] = dat_indeed['Job Title'].str.replace('Lead Data Scientist','Data Scientist')\n",
        "dat_indeed['Job Title'] = dat_indeed['Job Title'].str.replace('Head of Data','Data Scientist')\n",
        "dat_indeed['Job Title'] = dat_indeed['Job Title'].str.replace('AWS Data Architect','Data Scientist')\n",
        "dat_indeed['Job Title'] = dat_indeed['Job Title'].str.replace('Data Engineer II','Data Scientist')\n",
        "dat_indeed['Job Title'] = dat_indeed['Job Title'].str.replace('SAP Data Architect (MDG, BODS) - Manager','Data Scientist')\n",
        "dat_indeed['Job Title'] = dat_indeed['Job Title'].str.replace('Data Entry Clerk','Data Scientist')\n",
        "dat_indeed['Job Title'] = dat_indeed['Job Title'].str.replace('Sr Data Architect - Data Warehouse & MPP - Nationwide Opportunities','Data Scientist')\n",
        "dat_indeed['Job Title'] = dat_indeed['Job Title'].str.replace('SAP Data Architect (MDG, BODS) - Specialist Leader','Data Scientist')\n",
        "dat_indeed['Job Title'] = dat_indeed['Job Title'].str.replace('Sr Data Architect - Data Lake & Analytics - Nationwide Opportunities','Data Scientist')\n",
        "dat_indeed['Job Title'] = dat_indeed['Job Title'].str.replace('Data Strategy Architect - Cloud, Big Data, Analytics, ML/AI/Data Science','Data Scientist')\n",
        "dat_indeed['Job Title'] = dat_indeed['Job Title'].str.replace('Quant Specialist Sales (Enterprise Data Sales)','Data Scientist')\n",
        "dat_indeed['Job Title'] = dat_indeed['Job Title'].str.replace('SAP Data Scientist (MDG, BODS) - Consultant','Data Scientist')\n",
        "dat_indeed['Job Title'] = dat_indeed['Job Title'].str.replace('Big Data Scientist','Data Scientist')\n",
        "dat_indeed['Job Title'] = dat_indeed['Job Title'].str.replace('Data Analyst','Data Scientist')\n",
        "dat_indeed['Job Title'] = dat_indeed['Job Title'].str.replace('Data Architect','Data Scientist')\n",
        "dat_indeed['Job Title'] = dat_indeed['Job Title'].str.replace('Data Engineer','Data Scientist')\n",
        "\n",
        "\n",
        "\n",
        "\n",
        "#dat_indeed['Job Title'].value_counts()[0:50] # source for target variable\n",
        "#dat_indeed2['Job Title'].value_counts()[51:110] # source for target variable\n",
        "\n",
        "\n",
        "# Check which job titles left have 'Data' in them\n",
        "#x = dat_indeed2[dat_indeed2['Job Title'].str.contains(\"Data\")]\n",
        "#x['Job Title'].value_counts()[0:50]\n",
        "\n"
      ],
      "execution_count": 19,
      "outputs": []
    },
    {
      "cell_type": "code",
      "metadata": {
        "id": "AhjkAzYjZFb2",
        "outputId": "0fe4feb1-8d95-4279-950a-610f0898848b",
        "colab": {
          "base_uri": "https://localhost:8080/"
        }
      },
      "source": [
        "dat_indeed[dat_indeed['Job Title'].str.contains(\"Graphic\")]['Job Title'].value_counts()[0:50]\n"
      ],
      "execution_count": 27,
      "outputs": [
        {
          "output_type": "execute_result",
          "data": {
            "text/plain": [
              "Graphic Designer                                                               28\n",
              "Retail Signs & Graphics Business Development Representative                     3\n",
              "Junior Graphic Designer                                                         3\n",
              "Senior Graphic Designer                                                         2\n",
              "Graphic Designer / Production Specialist                                        1\n",
              "Marketing and Graphics Specialist                                               1\n",
              "Graphic Designer Publishing                                                     1\n",
              "Graphic Designer · Part-Time                                                    1\n",
              "Graphic Production Artist                                                       1\n",
              "Motion Graphics Specialist                                                      1\n",
              "Graphic Design Internship (Fall 2019)                                           1\n",
              "Graphic Designer and Print Production                                           1\n",
              "Marketing - Graphic Designer                                                    1\n",
              "MadLab Technologies Graphics Student (2019-2020)                                1\n",
              "Graphic Designer/Customer Service Representative                                1\n",
              "Graphics Production/Client Services Coordinator - InDesign                      1\n",
              "Customer Care Specialist with Graphic Design                                    1\n",
              "Graphics Coordinator                                                            1\n",
              "Graphic Services Coordination Manager                                           1\n",
              "Marketing, Graphic Design & Communication Specialist-possible telecommuting     1\n",
              "Sales for Marketing Print Graphics and Commercial Sign                          1\n",
              "Full Time Graphic Designer                                                      1\n",
              "Marketing Manager - Graphic Design                                              1\n",
              "Senior Embedded Graphics Engineer - Chandler, AZ                                1\n",
              "Graphic Coordinator                                                             1\n",
              "Graphic Designer to help build our presence in the US                           1\n",
              "Campus Sonar Graphic Designer                                                   1\n",
              "Graphic & Brand Identity Designer                                               1\n",
              "Graphic Designer II                                                             1\n",
              "JanSport and Eagle Creek: Graphic Designer                                      1\n",
              "Marketing Specialist / Graphic Designer                                         1\n",
              "Digital Marketing / Graphic Design Coordinator                                  1\n",
              "Video and Motion Graphics Designer                                              1\n",
              "Marketing Graphic Design Coordinator                                            1\n",
              "Prepress/Graphic Artist                                                         1\n",
              "Typesetter/Graphics Technician                                                  1\n",
              "Marketing Graphic Designer                                                      1\n",
              "Graphic Designer / Digital Strategist                                           1\n",
              "Cust Serv Rep for Promotional Products/Apparel w/Graphic Design Experience      1\n",
              "Graphic Artist                                                                  1\n",
              "Temporary - Graphic Designer                                                    1\n",
              "Graphic Design Specialist                                                       1\n",
              "Graphic Applications Specialist                                                 1\n",
              "Part time Graphic Designer / Marketing Coordinator                              1\n",
              "Brand and Graphic Designer II                                                   1\n",
              "Senior Graphic Designer-RFA                                                     1\n",
              "Marketing Coordinator/ Graphic Designer                                         1\n",
              "Graphic Designer (German/ English)                                              1\n",
              "Graphics Account Specialist                                                     1\n",
              "Graphic Design & Multimedia Specialist                                          1\n",
              "Name: Job Title, dtype: int64"
            ]
          },
          "metadata": {
            "tags": []
          },
          "execution_count": 27
        }
      ]
    },
    {
      "cell_type": "markdown",
      "metadata": {
        "id": "fTb-9Ss3fjKV"
      },
      "source": [
        "#### Creating Features"
      ]
    },
    {
      "cell_type": "code",
      "metadata": {
        "id": "kEmvdHd4HMxP"
      },
      "source": [
        "\n",
        "from gensim.parsing.preprocessing import preprocess_string, STOPWORDS\n",
        "\n",
        "# Quick default tokenization of the job description\n",
        "dat_indeed['tokens'] = dat_indeed['Job Description'].apply(lambda x: preprocess_string(x))\n",
        "# Remove the stopwords\n",
        "dat_indeed['tokens'] = dat_indeed['tokens'].apply(lambda x: [words for words in x if not words in STOPWORDS])\n"
      ],
      "execution_count": null,
      "outputs": []
    },
    {
      "cell_type": "code",
      "metadata": {
        "id": "ngX4CGidO_B_",
        "colab": {
          "base_uri": "https://localhost:8080/"
        },
        "outputId": "8835ee84-d67a-491c-e148-d891c2282413"
      },
      "source": [
        "\n"
      ],
      "execution_count": null,
      "outputs": [
        {
          "output_type": "execute_result",
          "data": {
            "text/plain": [
              "Experienced (Non-Manager)                                                                                                                                                                                                                                                                                                                                                                                                                                                                                                                                                                                                                                                                                                                                                                                                                                                                                                                                                                                                                                                                                                                                                                                 4594\n",
              "Medical/Health                                                                                                                                                                                                                                                                                                                                                                                                                                                                                                                                                                                                                                                                                                                                                                                                                                                                                                                                                                                                                                                                                                                                                                                            1254\n",
              "Entry Level                                                                                                                                                                                                                                                                                                                                                                                                                                                                                                                                                                                                                                                                                                                                                                                                                                                                                                                                                                                                                                                                                                                                                                                               1172\n",
              "Sales/Retail/Business Development                                                                                                                                                                                                                                                                                                                                                                                                                                                                                                                                                                                                                                                                                                                                                                                                                                                                                                                                                                                                                                                                                                                                                                          938\n",
              "Manager (Manager/Supervisor of Staff)                                                                                                                                                                                                                                                                                                                                                                                                                                                                                                                                                                                                                                                                                                                                                                                                                                                                                                                                                                                                                                                                                                                                                                      900\n",
              "                                                                                                                                                                                                                                                                                                                                                                                                                                                                                                                                                                                                                                                                                                                                                                                                                                                                                                                                                                                                                                                                                                                                                                                                          ... \n",
              "Network and Server AdministrationSoftware/System ArchitectureSystems Analysis - IT                                                                                                                                                                                                                                                                                                                                                                                                                                                                                                                                                                                                                                                                                                                                                                                                                                                                                                                                                                                                                                                                                                                           1\n",
              "Business Development/New AccountsGeneral/Other: Sales/Business Development                                                                                                                                                                                                                                                                                                                                                                                                                                                                                                                                                                                                                                                                                                                                                                                                                                                                                                                                                                                                                                                                                                                                   1\n",
              "Database Development/AdministrationNetwork and Server Administration                                                                                                                                                                                                                                                                                                                                                                                                                                                                                                                                                                                                                                                                                                                                                                                                                                                                                                                                                                                                                                                                                                                                         1\n",
              "Demonstrate the highest level of leadership and ethical standards, with a drive to uphold our “Culture of Can Do” Possess a passion for the beauty industry with the desire to constantly learn and then teach our store personnel and customers about our products Display strong organizational and planning skills with the ability to multi-task, problem-solve and act independently Self-starter with a drive to continuously learn and develop in career Must be 18 years of age or older Must have 3+ year(s) of retail sales/customer service experience Must have 1+ year(s) of managerial experience Licensed cosmetologist desirable but not required Work where we treat you and our customers as a priority-- Employee discount Free samples of many of our new products Opportunities to grow your career within the company On-going product knowledge programs and customer experience coaching Work in an  environment focused on and surrounded by beauty   Qualified applicants will receive consideration for employment without regard to their race, color, age, religion, nation origin, sex, sexual orientation, disability or other categories protected by law.   MONPOST         1\n",
              "Patient Care Support/Nursing Assistant                                                                                                                                                                                                                                                                                                                                                                                                                                                                                                                                                                                                                                                                                                                                                                                                                                                                                                                                                                                                                                                                                                                                                                       1\n",
              "Name: sector, Length: 163, dtype: int64"
            ]
          },
          "metadata": {
            "tags": []
          },
          "execution_count": 30
        }
      ]
    },
    {
      "cell_type": "markdown",
      "metadata": {
        "id": "cuOkfclEcBzr"
      },
      "source": [
        "## Clean Monster Data\n",
        "\n",
        "The job-titles here have a lot of weird stuff going on. This includes have 'job' included almost all the time, and it also specifies the location. We'll need to strip both out so that we can get a better job title overlap"
      ]
    },
    {
      "cell_type": "markdown",
      "metadata": {
        "id": "H375-tg2fsr0"
      },
      "source": [
        "#### Creating Target Variable\n"
      ]
    },
    {
      "cell_type": "code",
      "metadata": {
        "id": "Pzjp13xefu4v",
        "colab": {
          "base_uri": "https://localhost:8080/"
        },
        "outputId": "821b102c-20c1-42cd-ab7c-79ab24afa549"
      },
      "source": [
        "dat_monster['job_title'].value_counts()[0:50] # Source for target variable\n",
        "#dat_monster['sector'].value_counts() # Source for target variable\n",
        "#dat_monster['organization'].value_counts() # Source for target variable"
      ],
      "execution_count": null,
      "outputs": [
        {
          "output_type": "execute_result",
          "data": {
            "text/plain": [
              "Monster                                                                                                                                 318\n",
              "Shift Supervisor Job in Camphill                                                                                                        256\n",
              "RN                                                                                                                                       70\n",
              "Shift Supervisor - Part-Time Job in Camphill                                                                                             56\n",
              "Manager                                                                                                                                  50\n",
              "Please apply only if you are qualified.                                                                                                  31\n",
              "LEAD SALES ASSOCIATE-FT Job in Columbus                                                                                                  26\n",
              "ASST STORE MGR Job in Columbus                                                                                                           26\n",
              "SALES ASSOCIATE Job in Columbus                                                                                                          24\n",
              "LEAD SALES ASSOCIATE-PT Job in Columbus                                                                                                  24\n",
              "Director                                                                                                                                 23\n",
              "Manufacturing – Change Career to - Truck Driver – Entry Level                                                                            18\n",
              "Registered Nurse                                                                                                                         18\n",
              "Truck Driver – Entry Level ( CDL Not Required ) Transportation – Full Time                                                               18\n",
              "General Manager                                                                                                                          15\n",
              "Financial Advisor / Financial Sales Representative- Full Time Sales                                                                      15\n",
              "Personal Banker  Job in Dallas                                                                                                           14\n",
              "Staff Accountant Job in Dallas                                                                                                           14\n",
              "Senior Manager                                                                                                                           14\n",
              "Security Officer Job in Texas US body { margin:px; overflow: visible !important; } #ejb_header { color: #; font-family: Verdana          14\n",
              "Event Specialist Part Time Sales _PSS Job in Cincinnati                                                                                  13\n",
              "Security Officer Job in Georgia US body { margin:px; overflow: visible !important; } #ejb_header { color: #; font-family: Verdana        12\n",
              "Senior Accountant Job in Dallas                                                                                                          12\n",
              "Resident Care Specialist                                                                                                                 11\n",
              "Recruiter                                                                                                                                11\n",
              "Staff Accountant job in Dallas                                                                                                           11\n",
              "Project Manager Job in Columbus                                                                                                          10\n",
              "Full Time - Manager Trainee - No Weekends Job in Columbus                                                                                10\n",
              "Security Officer Job in California US body { margin:px; overflow: visible !important; } #ejb_header { color: #; font-family: Verdana      9\n",
              "TRUCK DRIVERS - No CDL? No Problem! We Train                                                                                              9\n",
              "Supervisor                                                                                                                                9\n",
              "Analyst                                                                                                                                   9\n",
              "Sales Representative Job in Dallas                                                                                                        9\n",
              "Associate                                                                                                                                 8\n",
              "Seasonal Holiday Retail Merchandising                                                                                                     8\n",
              "Associate Director                                                                                                                        8\n",
              "Registered Nurse - Surgical Services Job in Corpus Christi                                                                                8\n",
              "Project Manager Job in Chicago                                                                                                            7\n",
              "Customer Service Representative Job in Dallas                                                                                             7\n",
              "AUTOMOTIVE TECHNICIANS                                                                                                                    7\n",
              "Event Specialist Part Time Sales ACO Job in Chicago                                                                                       7\n",
              "Amec Foster Wheeler Environment & Infrastructure                                                                                          7\n",
              "Professional Maintenance and Cleaning Services                                                                                            7\n",
              "Seasonal Holiday Retail Sales                                                                                                             7\n",
              "Security Officer Job in Colorado US body { margin:px; overflow: visible !important; } #ejb_header { color: #; font-family: Verdana        7\n",
              "Registered Nurse - Centralized Staffing Job in Shreveport                                                                                 7\n",
              "Senior Associate                                                                                                                          7\n",
              "Driver Job in Cincinnati                                                                                                                  7\n",
              "CASHIER Job in Houston                                                                                                                    7\n",
              "GREAT CARE CAN BE TAUGHT. LEAD THE WAY.                                                                                                   7\n",
              "Name: job_title, dtype: int64"
            ]
          },
          "metadata": {
            "tags": []
          },
          "execution_count": 68
        }
      ]
    },
    {
      "cell_type": "markdown",
      "metadata": {
        "id": "CeEFtHtdfvZI"
      },
      "source": [
        "### Creating Features"
      ]
    },
    {
      "cell_type": "code",
      "metadata": {
        "id": "Zt4VaeaGeAnT"
      },
      "source": [
        "# Quick default tokenization of the job description\n",
        "dat_monster['tokens'] = dat_monster['job_description'].apply(lambda x: preprocess_string(x))\n",
        "# Remove the stopwords\n",
        "dat_monster['tokens'] = dat_monster['tokens'].apply(lambda x: [words for words in x if not words in STOPWORDS])\n"
      ],
      "execution_count": null,
      "outputs": []
    },
    {
      "cell_type": "markdown",
      "metadata": {
        "id": "E-QJVUWLf4Xb"
      },
      "source": [
        "## Combine the Data"
      ]
    }
  ]
}
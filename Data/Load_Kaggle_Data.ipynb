{
  "nbformat": 4,
  "nbformat_minor": 0,
  "metadata": {
    "colab": {
      "name": "Load Kaggle Data.ipynb",
      "provenance": [],
      "include_colab_link": true
    },
    "kernelspec": {
      "name": "python3",
      "display_name": "Python 3"
    },
    "language_info": {
      "name": "python"
    }
  },
  "cells": [
    {
      "cell_type": "markdown",
      "metadata": {
        "id": "view-in-github",
        "colab_type": "text"
      },
      "source": [
        "<a href=\"https://colab.research.google.com/github/pvai-umich/SIADS697/blob/main/Data/Load_Kaggle_Data.ipynb\" target=\"_parent\"><img src=\"https://colab.research.google.com/assets/colab-badge.svg\" alt=\"Open In Colab\"/></a>"
      ]
    },
    {
      "cell_type": "markdown",
      "metadata": {
        "id": "7zz8DZ2f8fTk"
      },
      "source": [
        "# Load Data\n",
        "\n",
        "This notebook will contain the data loading scripts for the two kaggle data sets."
      ]
    },
    {
      "cell_type": "markdown",
      "metadata": {
        "id": "7hK7ZH-DDaxx"
      },
      "source": [
        "Set up the Kaggle login and API key:"
      ]
    },
    {
      "cell_type": "code",
      "metadata": {
        "id": "S5hHtqsmDXO4"
      },
      "source": [
        "import os\n",
        "import zipfile\n",
        "import pandas as pd\n",
        "\n",
        "#comment\n",
        "\n",
        "os.environ['KAGGLE_USERNAME'] = \"pvaiciunas\" # username from the json file\n",
        "os.environ['KAGGLE_KEY'] = \"fba13e65a047582a90e611238731617e\" # key from the json file"
      ],
      "execution_count": 1,
      "outputs": []
    },
    {
      "cell_type": "markdown",
      "metadata": {
        "id": "nW6UodHY9Y6S"
      },
      "source": [
        "## Kaggle Indeed Jobs Dataset\n",
        "\n",
        "Source:\n",
        "https://www.kaggle.com/promptcloud/indeed-job-posting-dataset\n",
        "\n",
        "The next code block will download the zip file, unzip, and read the csv file into a pandas dataframe."
      ]
    },
    {
      "cell_type": "code",
      "metadata": {
        "id": "n-EuzD-PDE1r",
        "colab": {
          "base_uri": "https://localhost:8080/"
        },
        "outputId": "617b4965-b062-4062-88cd-45ea7ef611bf"
      },
      "source": [
        "!kaggle datasets download -d promptcloud/indeed-job-posting-dataset # api copied from kaggle\n",
        "\n",
        "with zipfile.ZipFile('indeed-job-posting-dataset.zip', 'r') as zip_ref:\n",
        "    zip_ref.extractall('/content')\n",
        "\n",
        "dat_indeed = pd.read_csv(\"home/sdf/marketing_sample_for_trulia_com-real_estate__20190901_20191031__30k_data.csv\")\n"
      ],
      "execution_count": 64,
      "outputs": [
        {
          "output_type": "stream",
          "text": [
            "indeed-job-posting-dataset.zip: Skipping, found more recently modified local copy (use --force to force download)\n"
          ],
          "name": "stdout"
        }
      ]
    },
    {
      "cell_type": "markdown",
      "metadata": {
        "id": "zkLcYNBJDnHS"
      },
      "source": [
        "## Kaggle Monster Jobs Dataset\n",
        "\n",
        "Source:\n",
        "https://www.kaggle.com/PromptCloudHQ/us-jobs-on-monstercom\n",
        "\n",
        "The next code block will download the zip file, unzip, and read the csv file into a pandas dataframe."
      ]
    },
    {
      "cell_type": "code",
      "metadata": {
        "colab": {
          "base_uri": "https://localhost:8080/"
        },
        "id": "Bkw4ZPE_Cc7h",
        "outputId": "8994fe8a-0ed6-4a7a-862c-f0be6bcc2ef4"
      },
      "source": [
        "!kaggle datasets download -d PromptCloudHQ/us-jobs-on-monstercom\n",
        "\n",
        "with zipfile.ZipFile('us-jobs-on-monstercom.zip', 'r') as zip_ref:\n",
        "    zip_ref.extractall('/content')\n",
        "\n",
        "dat_monster = pd.read_csv(\"monster_com-job_sample.csv\")"
      ],
      "execution_count": null,
      "outputs": [
        {
          "output_type": "stream",
          "text": [
            "Downloading us-jobs-on-monstercom.zip to /content\n",
            " 89% 17.0M/19.0M [00:00<00:00, 37.6MB/s]\n",
            "100% 19.0M/19.0M [00:00<00:00, 35.2MB/s]\n"
          ],
          "name": "stdout"
        }
      ]
    },
    {
      "cell_type": "markdown",
      "metadata": {
        "id": "--oBChxjbPMd"
      },
      "source": [
        "# Clean and Combine the Data\n"
      ]
    },
    {
      "cell_type": "markdown",
      "metadata": {
        "id": "r-dYFVi-U0vf"
      },
      "source": [
        "####Initial Thoughts\n",
        "\n",
        "Ideally we'd like to combine the two data sets. Both have a job description that we can tokenize pretty easily. However, the challenge becomes in creating usable target variables. \n",
        "\n",
        "There is some sector information. So ideally we'd like the target variable to be a combination of the two. We could have two different models, one for sector, and one for job title, or make it one model for 'sector - job title'. However, the sector/industry data isn't present for Indeed like it is for Monster.\n",
        "\n",
        "Getting both datasets on the same page though will be difficult."
      ]
    },
    {
      "cell_type": "markdown",
      "metadata": {
        "id": "B6OlImy5X4sp"
      },
      "source": [
        "#### Quick exploration code\n"
      ]
    },
    {
      "cell_type": "code",
      "metadata": {
        "id": "QUbkiDiWX7Ad"
      },
      "source": [
        "## Indeed Data\n",
        "#dat_indeed.head()\n",
        "#dat_indeed.columns\n",
        "#dat_indeed['Job Description'][0] # Source for features\n",
        "#dat_indeed['Job Title'].value_counts()[0:50] # source for target variable\n",
        "\n",
        "## Monster Data\n",
        "#dat_monster.head()\n",
        "#dat_monster.columns\n",
        "#dat_monster['job_description'][0] # Source for features\n",
        "#dat_monster['job_title'].value_counts()[0:50] # Source for target variable\n",
        "#dat_monster['sector'].value_counts() # Source for target variable\n",
        "#dat_monster['organization'].value_counts() # Source for target variable\n",
        "\n"
      ],
      "execution_count": null,
      "outputs": []
    },
    {
      "cell_type": "markdown",
      "metadata": {
        "id": "1lhtXydjWDaF"
      },
      "source": [
        "Create some graphs to show the prevalence of senior vs junior, as well as the concentrated nature of job types in the Indeed data"
      ]
    },
    {
      "cell_type": "code",
      "metadata": {
        "id": "q4xdAY2nWA22"
      },
      "source": [
        "\n",
        "import seaborn as sns\n",
        "\n",
        "jobType_data = {'JobType' : ['Sales',\n",
        "                             'Business Dev.',\n",
        "                             'Retail',\n",
        "                             'Finance',\n",
        "                             'Graphic Design',\n",
        "                             'Oil'],\n",
        "                  'NumJobs' : [len(dat_indeed[dat_indeed['Job Title'].str.contains('Sales')]),\n",
        "                             len(dat_indeed[dat_indeed['Job Title'].str.contains('Business Development')]),\n",
        "                             len(dat_indeed[dat_indeed['Job Title'].str.contains('Retail')]),\n",
        "                             len(dat_indeed[dat_indeed['Job Title'].str.contains('Finan')]),\n",
        "                             len(dat_indeed[dat_indeed['Job Title'].str.contains('Graphic')]),\n",
        "                             len(dat_indeed[dat_indeed['Job Title'].str.contains('Oil')])]}\n",
        "jobType_df = pd.DataFrame(data = jobType_data)\n",
        "\n",
        "seniority_data = {'Title' : ['Senior / Executive',\n",
        "                             'Manager / Director',\n",
        "                             'Junior / Associate'],                             \n",
        "                  'Count' : [len(dat_indeed[dat_indeed['Job Title'].str.contains('Senior|Executive')]),\n",
        "                             len(dat_indeed[dat_indeed['Job Title'].str.contains('Manager|Director')]),\n",
        "                             len(dat_indeed[dat_indeed['Job Title'].str.contains('Junior|Associate|Trainee')])]}\n",
        "\n",
        "\n",
        "\n",
        "\n",
        "seniority_df = pd.DataFrame(data = seniority_data)"
      ],
      "execution_count": null,
      "outputs": []
    },
    {
      "cell_type": "code",
      "metadata": {
        "id": "_E3qX7owEDJf",
        "colab": {
          "base_uri": "https://localhost:8080/",
          "height": 312
        },
        "outputId": "1cf81cec-3b9f-4a58-deaa-e1dd1a9fb614"
      },
      "source": [
        "sns.barplot(x=\"Title\", y=\"Count\", data=seniority_df).set_title('Indeed Data Seniority')"
      ],
      "execution_count": null,
      "outputs": [
        {
          "output_type": "execute_result",
          "data": {
            "text/plain": [
              "Text(0.5, 1.0, 'Indeed Data Seniority')"
            ]
          },
          "metadata": {
            "tags": []
          },
          "execution_count": 4
        },
        {
          "output_type": "display_data",
          "data": {
            "image/png": "[encoded data removed]",
            "text/plain": [
              "<Figure size 432x288 with 1 Axes>"
            ]
          },
          "metadata": {
            "tags": [],
            "needs_background": "light"
          }
        }
      ]
    },
    {
      "cell_type": "code",
      "metadata": {
        "id": "tl4kDvoDd4bR",
        "colab": {
          "base_uri": "https://localhost:8080/",
          "height": 312
        },
        "outputId": "95336cf7-3aa3-4ed8-8751-7bbc61e2f7ec"
      },
      "source": [
        "sns.barplot(x=\"JobType\", y=\"NumJobs\", data=jobType_df).set_title('Indeed Data Job Type')"
      ],
      "execution_count": null,
      "outputs": [
        {
          "output_type": "execute_result",
          "data": {
            "text/plain": [
              "Text(0.5, 1.0, 'Indeed Data Job Type')"
            ]
          },
          "metadata": {
            "tags": []
          },
          "execution_count": 5
        },
        {
          "output_type": "display_data",
          "data": {
            "image/png": "[encoded data removed]",
            "text/plain": [
              "<Figure size 432x288 with 1 Axes>"
            ]
          },
          "metadata": {
            "tags": [],
            "needs_background": "light"
          }
        }
      ]
    },
    {
      "cell_type": "markdown",
      "metadata": {
        "id": "5EJkYlsGHgJE"
      },
      "source": [
        "## Clean Indeed Data\n",
        "\n",
        "'Job Description' holds the main text we'll need for creating features. We can use gensim to tokenize the job description as well as\n",
        "add some common bigrams. Alternatively we can use TFID.\n",
        "\n",
        "The bigger challenge will be getting the target variable in a \n"
      ]
    },
    {
      "cell_type": "markdown",
      "metadata": {
        "id": "xYcKOh7bfmZW"
      },
      "source": [
        "#### Creating Target Variable\n",
        "\n",
        "There are many similar titles but have an extra word or something that doesn't let it be combined with others. Will do some manual cleaning to get as much overlap between titles as possible. This is being done iteratively and manually."
      ]
    },
    {
      "cell_type": "code",
      "metadata": {
        "id": "whFqhkr1fpID"
      },
      "source": [
        "# manually identify areas where we can clean titles to get things more homogenous\n",
        "dat_indeed['Job Title'] = dat_indeed['Job Title'].str.replace('Lids ','')\n",
        "dat_indeed['Job Title'] = dat_indeed['Job Title'].str.replace('Senior ','')\n",
        "dat_indeed['Job Title'] = dat_indeed['Job Title'].str.replace('Junior ','')\n",
        "\n",
        "# Do some more specific cleaning of titles \n",
        "dat_indeed['Job Title'] = dat_indeed['Job Title'].str.replace(', Retail Part Time','')\n",
        "dat_indeed['Job Title'] = dat_indeed['Job Title'].str.replace('Sales Associate/Beauty Advisor','Beauty Advisor')\n",
        "dat_indeed['Job Title'] = dat_indeed['Job Title'].str.replace('BEAUTY CONSULTANT','Beauty Advisor')\n",
        "dat_indeed['Job Title'] = dat_indeed['Job Title'].str.replace(' I Store Operations','')\n",
        "dat_indeed['Job Title'] = dat_indeed['Job Title'].str.replace(' - Prospecting - Financial Solutions','')\n",
        "dat_indeed['Job Title'] = dat_indeed['Job Title'].str.replace('General Manager II','General Manager')\n",
        "dat_indeed['Job Title'] = dat_indeed['Job Title'].str.replace('Entry Level Business Development Trainee – Traveling','Business Development')\n",
        "dat_indeed['Job Title'] = dat_indeed['Job Title'].str.replace('District Mgr in Training (DMIT)','District Manager')\n",
        "dat_indeed['Job Title'] = dat_indeed['Job Title'].str.replace('HERO Assistant Store Manager Trainee (Military and Veterans)','Assistant Store Manager')\n",
        "dat_indeed['Job Title'] = dat_indeed['Job Title'].str.replace('Business Development Representative','Business Development')\n",
        "dat_indeed['Job Title'] = dat_indeed['Job Title'].str.replace('Enterprise Sales Account Executive','Enterprise Account Executive')\n",
        "dat_indeed['Job Title'] = dat_indeed['Job Title'].str.replace('STORE MANAGER','Store Manager')\n",
        "dat_indeed['Job Title'] = dat_indeed['Job Title'].str.replace(\"Macy's Locker Room Assistant Manager Full-Time\",'Assistant Manager')\n",
        "dat_indeed['Job Title'] = dat_indeed['Job Title'].str.replace('General Manager Full Time-GMA-203100','General Manager')\n",
        "dat_indeed['Job Title'] = dat_indeed['Job Title'].str.replace('Business Development Associate','Business Development')\n",
        "dat_indeed['Job Title'] = dat_indeed['Job Title'].str.replace('Merrill Lynch Financial Advisor Business Development Program','Financial Analyst')\n",
        "dat_indeed['Job Title'] = dat_indeed['Job Title'].str.replace('Business Development Associate','Business Development')\n",
        "dat_indeed['Job Title'] = dat_indeed['Job Title'].str.replace('Marketing Assistant','Marketing Associate')\n",
        "dat_indeed['Job Title'] = dat_indeed['Job Title'].str.replace(\"Macy's Locker Room Store Manager\",'Store Manager')\n",
        "dat_indeed['Job Title'] = dat_indeed['Job Title'].str.replace('Assistant Manager Full-Time','Assistant Manager')\n",
        "dat_indeed['Job Title'] = dat_indeed['Job Title'].str.replace('Sales Development Representative','Sales Representative')\n",
        "dat_indeed['Job Title'] = dat_indeed['Job Title'].str.replace('Enterprise Sales Executive','Sales Executive')\n",
        "dat_indeed['Job Title'] = dat_indeed['Job Title'].str.replace('Senior Account Executive','Account Executive')\n",
        "dat_indeed['Job Title'] = dat_indeed['Job Title'].str.replace('Sales Development Representative','Sales Representative')\n",
        "dat_indeed['Job Title'] = dat_indeed['Job Title'].str.replace('Inside Sales Representative','Sales Representative')\n",
        "dat_indeed['Job Title'] = dat_indeed['Job Title'].str.replace('Sales Representative','Sales Associate')\n",
        "dat_indeed['Job Title'] = dat_indeed['Job Title'].str.replace('Restaurant Associate-Horizon','Restaurant Associate')\n",
        "dat_indeed['Job Title'] = dat_indeed['Job Title'].str.replace('Beauty Consultant','Beauty Advisor')\n",
        "dat_indeed['Job Title'] = dat_indeed['Job Title'].str.replace('Associate Financial Advisor Development Program (AFADP)','Financial Advisor')\n",
        "dat_indeed['Job Title'] = dat_indeed['Job Title'].str.replace('Senior Financial Analyst','Financial Analyst')\n",
        "dat_indeed['Job Title'] = dat_indeed['Job Title'].str.replace('Store Manager in Training','Store Manager')\n",
        "dat_indeed['Job Title'] = dat_indeed['Job Title'].str.replace('Regional Sales Director','Sales Director')\n",
        "dat_indeed['Job Title'] = dat_indeed['Job Title'].str.replace('Seasonal Sales Associate','Sales Associate')\n",
        "dat_indeed['Job Title'] = dat_indeed['Job Title'].str.replace('Office Administrator','Administrator')\n",
        "dat_indeed['Job Title'] = dat_indeed['Job Title'].str.replace('Sales Associate (PT)','Sales Associate')\n",
        "dat_indeed['Job Title'] = dat_indeed['Job Title'].str.replace('PT Perishable Associate','Perishable Associate')\n",
        "dat_indeed['Job Title'] = dat_indeed['Job Title'].str.replace('FT Perishable Associate','Perishable Associate')\n",
        "dat_indeed['Job Title'] = dat_indeed['Job Title'].str.replace('Business Development Manager','Business Development')\n",
        "dat_indeed['Job Title'] = dat_indeed['Job Title'].str.replace('Salesperson','Sales Associate')\n",
        "dat_indeed['Job Title'] = dat_indeed['Job Title'].str.replace('Sales Director','Sales Executive')\n",
        "dat_indeed['Job Title'] = dat_indeed['Job Title'].str.replace('Purchasing Agent','Buyer')\n",
        "dat_indeed['Job Title'] = dat_indeed['Job Title'].str.replace('Director of Sales','Sales Director')\n",
        "dat_indeed['Job Title'] = dat_indeed['Job Title'].str.replace('Business Analyst','Financial Analyst')\n",
        "dat_indeed['Job Title'] = dat_indeed['Job Title'].str.replace('Staff Accountant','Accountant')\n",
        "dat_indeed['Job Title'] = dat_indeed['Job Title'].str.replace('Accounting Manager','Accountant')\n",
        "dat_indeed['Job Title'] = dat_indeed['Job Title'].str.replace('Sr. Financial Analyst','Financial Analyst')\n",
        "dat_indeed['Job Title'] = dat_indeed['Job Title'].str.replace('Finance Manager','Financial Analyst')\n",
        "dat_indeed['Job Title'] = dat_indeed['Job Title'].str.replace('Associate Financial Advisor Development Program (AFADP)','Financial Analyst')\n",
        "\n",
        "\n",
        "\n",
        "# Want to add some more of these titles if possible\n",
        "#dat_indeed2['Job Title'] = dat_indeed2['Job Title'].str.replace('','Software Engineer')\n",
        "#dat_indeed2['Job Title'] = dat_indeed2['Job Title'].str.replace('','Financial Analyst')\n",
        "#dat_indeed2['Job Title'] = dat_indeed2['Job Title'].str.replace('','Staff Accountant')\n",
        "#dat_indeed2['Job Title'] = dat_indeed2['Job Title'].str.replace('','Marketing Associate')\n",
        "#dat_indeed2['Job Title'] = dat_indeed2['Job Title'].str.replace('','Graphic Designer')\n",
        "\n",
        "\n",
        "# And a whole section on data-related ones so that we can include 'data scientist' in the results\n",
        "dat_indeed['Job Title'] = dat_indeed['Job Title'].str.replace('Finance Data Analyst','Data Scientist')\n",
        "dat_indeed['Job Title'] = dat_indeed['Job Title'].str.replace('Marketing Data Analyst','Data Scientist')\n",
        "dat_indeed['Job Title'] = dat_indeed['Job Title'].str.replace('Business Data Analyst','Data Scientist')\n",
        "dat_indeed['Job Title'] = dat_indeed['Job Title'].str.replace('Cloud Data Architect','Data Scientist')\n",
        "dat_indeed['Job Title'] = dat_indeed['Job Title'].str.replace('Azure Data Architect ','Data Scientist')\n",
        "dat_indeed['Job Title'] = dat_indeed['Job Title'].str.replace('Lead Data Scientist','Data Scientist')\n",
        "dat_indeed['Job Title'] = dat_indeed['Job Title'].str.replace('Head of Data','Data Scientist')\n",
        "dat_indeed['Job Title'] = dat_indeed['Job Title'].str.replace('AWS Data Architect','Data Scientist')\n",
        "dat_indeed['Job Title'] = dat_indeed['Job Title'].str.replace('Data Engineer II','Data Scientist')\n",
        "dat_indeed['Job Title'] = dat_indeed['Job Title'].str.replace('SAP Data Architect (MDG, BODS) - Manager','Data Scientist')\n",
        "dat_indeed['Job Title'] = dat_indeed['Job Title'].str.replace('Data Entry Clerk','Data Scientist')\n",
        "dat_indeed['Job Title'] = dat_indeed['Job Title'].str.replace('Sr Data Architect - Data Warehouse & MPP - Nationwide Opportunities','Data Scientist')\n",
        "dat_indeed['Job Title'] = dat_indeed['Job Title'].str.replace('SAP Data Architect (MDG, BODS) - Specialist Leader','Data Scientist')\n",
        "dat_indeed['Job Title'] = dat_indeed['Job Title'].str.replace('Sr Data Architect - Data Lake & Analytics - Nationwide Opportunities','Data Scientist')\n",
        "dat_indeed['Job Title'] = dat_indeed['Job Title'].str.replace('Data Strategy Architect - Cloud, Big Data, Analytics, ML/AI/Data Science','Data Scientist')\n",
        "dat_indeed['Job Title'] = dat_indeed['Job Title'].str.replace('Quant Specialist Sales (Enterprise Data Sales)','Data Scientist')\n",
        "dat_indeed['Job Title'] = dat_indeed['Job Title'].str.replace('SAP Data Scientist (MDG, BODS) - Consultant','Data Scientist')\n",
        "dat_indeed['Job Title'] = dat_indeed['Job Title'].str.replace('Big Data Scientist','Data Scientist')\n",
        "dat_indeed['Job Title'] = dat_indeed['Job Title'].str.replace('Data Analyst','Data Scientist')\n",
        "dat_indeed['Job Title'] = dat_indeed['Job Title'].str.replace('Data Architect','Data Scientist')\n",
        "dat_indeed['Job Title'] = dat_indeed['Job Title'].str.replace('Data Engineer','Data Scientist')\n",
        "\n",
        "\n"
      ],
      "execution_count": 65,
      "outputs": []
    },
    {
      "cell_type": "code",
      "metadata": {
        "id": "WCujGq-3K6ID"
      },
      "source": [
        "def clean_tokenize_text(df, column):\n",
        "    \"\"\"\n",
        "    input: {pandas DataFrame, string object} dataframe with text to be tokenized in column name provided\n",
        "    return: {pandas DataFrame} dataframe with appended 'tokens' and 'stem_tokens' columns\n",
        "    \n",
        "    \"\"\"\n",
        "    CUSTOM_STOP_WORDS = ['â¢', 'â', 'â', 'â¢', 'â','®', '�',\n",
        "                         '\\\\u200','comment','connect','message','\\\\xa0',\n",
        "                         'share','mo','month','follow','report',\n",
        "                         'block','profile','yr','year','date',\n",
        "                         'contact','jan','january','feb','february',\n",
        "                         'mar','march','apr','april','may','jun',\n",
        "                         'june','jul','july','aug','august','sep',\n",
        "                         'sept','september','oct','october','nov',\n",
        "                         'november','dec','december','yddscsgylniquit',\n",
        "                         'srmysiridmcwdydzygf'\n",
        "                        ]\n",
        "    CUSTOM_STEM_FILTERS = [lambda x: x.lower(), strip_tags, strip_punctuation, strip_multiple_whitespaces, remove_stopwords, strip_numeric, stem_text]\n",
        "    CUSTOM_FILTERS = [lambda x: x.lower(), strip_tags, strip_punctuation, strip_multiple_whitespaces, remove_stopwords, strip_numeric]\n",
        "    tokens = []\n",
        "    s_tokens = []\n",
        "    stem_tokens = []\n",
        "    s_stem_tokens = []\n",
        "    for s in df[column]:\n",
        "        tokens = preprocess_string(s, CUSTOM_FILTERS)\n",
        "        tokens = [x for x in tokens if len(x) > 1]\n",
        "        \n",
        "        stem_tokens = preprocess_string(s, CUSTOM_STEM_FILTERS)\n",
        "        stem_tokens = [x for x in stem_tokens if len(x) > 1]\n",
        "        \n",
        "        s_stem_tokens.append(stem_tokens)\n",
        "        s_tokens.append(tokens)\n",
        "    df['tokens'] = s_tokens\n",
        "    df['stem_tokens'] = s_stem_tokens\n",
        "    return df"
      ],
      "execution_count": 66,
      "outputs": []
    },
    {
      "cell_type": "markdown",
      "metadata": {
        "id": "fTb-9Ss3fjKV"
      },
      "source": [
        "#### Creating Features\n",
        "\n",
        "We will first create features for the actual model which will utilize gensim and keep each job line item separate.\n",
        "\n",
        "We will then also use a faster tokenizing script to re-tokenize the dataframe but also combine all these simpler tokens for each unique job title we'll be using in the final model. This is so that we can have a smaller data file that we can load directly into the web app and reference for the skills gap part of the application."
      ]
    },
    {
      "cell_type": "code",
      "metadata": {
        "id": "kEmvdHd4HMxP"
      },
      "source": [
        "from gensim.parsing.preprocessing import preprocess_string, STOPWORDS\n",
        "\n",
        "# Only keep the job titles with more than 75 records.\n",
        "job_titles_to_keep = dat_indeed['Job Title'].value_counts()\n",
        "job_titles_to_keep = job_titles_to_keep[job_titles_to_keep > 75].index.tolist()\n",
        "dat_indeed = dat_indeed[dat_indeed['Job Title'].isin(job_titles_to_keep)]\n",
        "\n",
        "# Default tokenization of the job description\n",
        "dat_indeed['tokens'] = dat_indeed['Job Description'].apply(lambda x: preprocess_string(x))\n",
        "\n",
        "# Remove the stopwords\n",
        "dat_indeed['tokens'] = dat_indeed['tokens'].apply(lambda x: [words for words in x if not words in STOPWORDS])\n",
        "\n",
        "# Put back into a single string for use in TFIDVectorizer later\n",
        "dat_indeed['tokens'] = dat_indeed['tokens'].apply(' '.join)\n",
        "  "
      ],
      "execution_count": 67,
      "outputs": []
    },
    {
      "cell_type": "code",
      "metadata": {
        "id": "Ns6ruZQGIc_e"
      },
      "source": [
        "# Create a mini dataset from the tokens that we can upload as a txt file and use to \n",
        "# quickly determine the skill gap in the web app. Will combine all the tokens\n",
        "# found for each unique job.\n",
        "from gensim.corpora import Dictionary\n",
        "from gensim.models.phrases import Phrases, Phraser\n",
        "from gensim.parsing.preprocessing import preprocess_string,strip_punctuation, strip_multiple_whitespaces, remove_stopwords, stem_text, STOPWORDS, strip_numeric, strip_tags\n",
        "\n",
        "dat_indeed2 = dat_indeed.copy()\n",
        "dat_indeed2 = dat_indeed2.drop(columns=['tokens'])\n",
        "dat_indeed2 = clean_tokenize_text(dat_indeed2, \"Job Description\")\n"
      ],
      "execution_count": 68,
      "outputs": []
    },
    {
      "cell_type": "code",
      "metadata": {
        "id": "u7CoBEDwMxsA"
      },
      "source": [
        "# Create a dictionary so that we only have unique job titles\n",
        "mini_dat = {}\n",
        "for i in range(dat_indeed2.shape[0]):\n",
        "  temp_job = dat_indeed2['Job Title'].iloc[i]\n",
        "  temp_tokens = dat_indeed2['stem_tokens'].iloc[i]\n",
        "  if temp_job in mini_dat.keys():\n",
        "    mini_dat[temp_job].extend(temp_tokens)\n",
        "  else:\n",
        "    mini_dat[temp_job] = temp_tokens\n",
        "  \n",
        "# Then convert to a dataframe that we can export as a txt file\n",
        "mini_dat = pd.DataFrame(data = {'Job Title':mini_dat.keys(),\n",
        "                                'Job Tokens':mini_dat.values()})\n",
        "\n",
        "#mini_dat.to_csv(r'mini_dat.txt', header=None, index=None, sep=' ', mode='a')"
      ],
      "execution_count": 70,
      "outputs": []
    },
    {
      "cell_type": "code",
      "metadata": {
        "id": "bQ6FvntFJlJH",
        "outputId": "8631518a-fd38-40e6-e1e3-b8f0b54f5d88",
        "colab": {
          "base_uri": "https://localhost:8080/"
        }
      },
      "source": [
        "mini_dat = pd.DataFrame()\n"
      ],
      "execution_count": 21,
      "outputs": [
        {
          "output_type": "execute_result",
          "data": {
            "text/plain": [
              "(4515, 31)"
            ]
          },
          "metadata": {},
          "execution_count": 21
        }
      ]
    },
    {
      "cell_type": "markdown",
      "metadata": {
        "id": "zs4sIsgXGpkj"
      },
      "source": [
        "##Build a Model"
      ]
    },
    {
      "cell_type": "markdown",
      "metadata": {
        "id": "ZH5zD7OWJvSd"
      },
      "source": [
        "Will use a simple Logistic Regression to start, then move on from there."
      ]
    },
    {
      "cell_type": "code",
      "metadata": {
        "id": "-PQXrUz9J1up"
      },
      "source": [
        "import numpy as np\n",
        "from sklearn.model_selection import train_test_split\n",
        "from sklearn.feature_extraction.text import TfidfVectorizer\n",
        "from sklearn.dummy import DummyClassifier\n",
        "from sklearn.linear_model import LogisticRegression\n",
        "from sklearn.metrics import f1_score\n",
        "from sklearn.metrics import accuracy_score\n",
        "\n",
        "\n",
        "# Split the data to train and test.\n",
        "split_df = np.split(dat_indeed.sample(frac = 1, random_state = 42), [int(len(dat_indeed)*0.8), int(len(dat_indeed)*0.9), int(len(dat_indeed)*0.9)])\n",
        "train_df = split_df[0]\n",
        "val_df = split_df[1]\n",
        "test_df = split_df[2]\n",
        "\n",
        "# Vectorize the tokens. Will use a minimum of 200 for usage.\n",
        "vectorizer = TfidfVectorizer(min_df = 100, stop_words = 'english', ngram_range =(1,2))\n",
        "X_train = vectorizer.fit_transform(train_df['tokens'])\n",
        "y_train = list(train_df['Job Title'])\n",
        "\n",
        "X_val = vectorizer.transform(val_df['tokens'])\n",
        "y_val = list(val_df['Job Title'])\n",
        "\n",
        "\n",
        "# Fit a simple Logistic Regression Model\n",
        "clf = LogisticRegression(random_state = 42, solver = 'lbfgs', multi_class = 'auto')\n",
        "clf.fit(X_train, y_train)\n",
        "\n",
        "# Some dummy classifiers to test performance\n",
        "dummy_clf_unif = DummyClassifier(random_state = 42, strategy = \"uniform\")\n",
        "dummy_clf_mostf = DummyClassifier(random_state = 42, strategy = \"most_frequent\")\n",
        "\n",
        "dummy_clf_unif.fit(X_train, y_train)\n",
        "dummy_clf_mostf.fit(X_train, y_train)\n",
        "\n",
        "\n",
        "# Create predictions\n",
        "preds_lr = clf.predict(X_val)\n",
        "pred_dummy_unif = dummy_clf_unif.predict(X_val)\n",
        "pred_dummy_mostf = dummy_clf_mostf.predict(X_val)\n",
        "\n",
        "\n",
        "# Scoring\n",
        "\n",
        "acc_lr = accuracy_score(y_val, preds_lr, normalize = True)\n",
        "acc_unif = accuracy_score(y_val, pred_dummy_unif, normalize = True)\n",
        "acc_mostf = accuracy_score(y_val, pred_dummy_mostf, normalize = True)\n",
        "\n",
        "f1_lr = f1_score(y_val, preds_lr, average='macro')\n",
        "f1_unif = f1_score(y_val, pred_dummy_unif, average='macro')\n",
        "f1_mf = f1_score(y_val, pred_dummy_mostf, average='macro')\n",
        "\n"
      ],
      "execution_count": null,
      "outputs": []
    },
    {
      "cell_type": "code",
      "metadata": {
        "id": "_Ta0xIKfYC4F",
        "colab": {
          "base_uri": "https://localhost:8080/"
        },
        "outputId": "b4649378-001c-4812-fb73-0e5bdb4f28d7"
      },
      "source": [
        "f1_lr, f1_unif, f1_mf"
      ],
      "execution_count": null,
      "outputs": [
        {
          "output_type": "execute_result",
          "data": {
            "text/plain": [
              "(0.8674897379675345, 0.020911567874630256, 0.010757946210268949)"
            ]
          },
          "metadata": {
            "tags": []
          },
          "execution_count": 84
        }
      ]
    },
    {
      "cell_type": "code",
      "metadata": {
        "id": "6d_gPDKkZyZE",
        "colab": {
          "base_uri": "https://localhost:8080/"
        },
        "outputId": "edca2242-b8d4-4d64-91b9-596b74117bd5"
      },
      "source": [
        "acc_lr, acc_unif, acc_mostf"
      ],
      "execution_count": null,
      "outputs": [
        {
          "output_type": "execute_result",
          "data": {
            "text/plain": [
              "(0.8684931506849315, 0.024657534246575342, 0.12054794520547946)"
            ]
          },
          "metadata": {
            "tags": []
          },
          "execution_count": 85
        }
      ]
    },
    {
      "cell_type": "code",
      "metadata": {
        "id": "MO2N4M_LaAlY",
        "colab": {
          "base_uri": "https://localhost:8080/"
        },
        "outputId": "e7dd8254-e6b7-42b6-de5a-96261b0e9f77"
      },
      "source": [
        "input = \"This is an example of an input. I really like taxes in high school, and beauty accountant with beauty and other things like that. I loved to go out and socialize as well.\"\n",
        "clean_input = \" \".join(preprocess_string(input))\n",
        "\n",
        "clf.predict(vectorizer.transform([clean_input]))\n"
      ],
      "execution_count": null,
      "outputs": [
        {
          "output_type": "execute_result",
          "data": {
            "text/plain": [
              "array(['Beauty Advisor'], dtype='<U31')"
            ]
          },
          "metadata": {
            "tags": []
          },
          "execution_count": 99
        }
      ]
    }
  ]
}
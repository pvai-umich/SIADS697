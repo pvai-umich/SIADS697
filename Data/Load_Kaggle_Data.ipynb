{
  "nbformat": 4,
  "nbformat_minor": 0,
  "metadata": {
    "colab": {
      "name": "Load Kaggle Data.ipynb",
      "provenance": [],
      "include_colab_link": true
    },
    "kernelspec": {
      "name": "python3",
      "display_name": "Python 3"
    },
    "language_info": {
      "name": "python"
    }
  },
  "cells": [
    {
      "cell_type": "markdown",
      "metadata": {
        "id": "view-in-github",
        "colab_type": "text"
      },
      "source": [
        "<a href=\"https://colab.research.google.com/github/pvai-umich/SIADS697/blob/main/Data/Load_Kaggle_Data.ipynb\" target=\"_parent\"><img src=\"https://colab.research.google.com/assets/colab-badge.svg\" alt=\"Open In Colab\"/></a>"
      ]
    },
    {
      "cell_type": "markdown",
      "metadata": {
        "id": "7zz8DZ2f8fTk"
      },
      "source": [
        "# Load Data\n",
        "\n",
        "This notebook will contain the data loading scripts for the two kaggle data sets."
      ]
    },
    {
      "cell_type": "markdown",
      "metadata": {
        "id": "7hK7ZH-DDaxx"
      },
      "source": [
        "Set up the Kaggle login and API key:"
      ]
    },
    {
      "cell_type": "code",
      "metadata": {
        "id": "S5hHtqsmDXO4"
      },
      "source": [
        "import os\n",
        "import zipfile\n",
        "import pandas as pd\n",
        "\n",
        "#comment\n",
        "\n",
        "os.environ['KAGGLE_USERNAME'] = \"pvaiciunas\" # username from the json file\n",
        "os.environ['KAGGLE_KEY'] = \"fba13e65a047582a90e611238731617e\" # key from the json file"
      ],
      "execution_count": 1,
      "outputs": []
    },
    {
      "cell_type": "markdown",
      "metadata": {
        "id": "nW6UodHY9Y6S"
      },
      "source": [
        "## Kaggle Indeed Jobs Dataset\n",
        "\n",
        "Source:\n",
        "https://www.kaggle.com/promptcloud/indeed-job-posting-dataset\n",
        "\n",
        "The next code block will download the zip file, unzip, and read the csv file into a pandas dataframe."
      ]
    },
    {
      "cell_type": "code",
      "metadata": {
        "id": "n-EuzD-PDE1r",
        "outputId": "8c9379f2-74af-4d9f-9209-b38d30c402c1",
        "colab": {
          "base_uri": "https://localhost:8080/"
        }
      },
      "source": [
        "!kaggle datasets download -d promptcloud/indeed-job-posting-dataset # api copied from kaggle\n",
        "\n",
        "with zipfile.ZipFile('indeed-job-posting-dataset.zip', 'r') as zip_ref:\n",
        "    zip_ref.extractall('/content')\n",
        "\n",
        "dat_indeed = pd.read_csv(\"home/sdf/marketing_sample_for_trulia_com-real_estate__20190901_20191031__30k_data.csv\")\n"
      ],
      "execution_count": 2,
      "outputs": [
        {
          "output_type": "stream",
          "text": [
            "Downloading indeed-job-posting-dataset.zip to /content\n",
            " 92% 44.0M/48.0M [00:00<00:00, 87.1MB/s]\n",
            "100% 48.0M/48.0M [00:00<00:00, 108MB/s] \n"
          ],
          "name": "stdout"
        }
      ]
    },
    {
      "cell_type": "markdown",
      "metadata": {
        "id": "zkLcYNBJDnHS"
      },
      "source": [
        "## Kaggle Monster Jobs Dataset\n",
        "\n",
        "Source:\n",
        "https://www.kaggle.com/PromptCloudHQ/us-jobs-on-monstercom\n",
        "\n",
        "The next code block will download the zip file, unzip, and read the csv file into a pandas dataframe."
      ]
    },
    {
      "cell_type": "code",
      "metadata": {
        "colab": {
          "base_uri": "https://localhost:8080/"
        },
        "id": "Bkw4ZPE_Cc7h",
        "outputId": "fbc6ea06-e430-4608-9d69-9236cc7cfb7b"
      },
      "source": [
        "!kaggle datasets download -d PromptCloudHQ/us-jobs-on-monstercom\n",
        "\n",
        "with zipfile.ZipFile('us-jobs-on-monstercom.zip', 'r') as zip_ref:\n",
        "    zip_ref.extractall('/content')\n",
        "\n",
        "dat_monster = pd.read_csv(\"monster_com-job_sample.csv\")"
      ],
      "execution_count": 3,
      "outputs": [
        {
          "output_type": "stream",
          "text": [
            "Downloading us-jobs-on-monstercom.zip to /content\n",
            " 26% 5.00M/19.0M [00:00<00:00, 43.5MB/s]\n",
            "100% 19.0M/19.0M [00:00<00:00, 92.5MB/s]\n"
          ],
          "name": "stdout"
        }
      ]
    },
    {
      "cell_type": "markdown",
      "metadata": {
        "id": "--oBChxjbPMd"
      },
      "source": [
        "# Clean and Combine the Data\n"
      ]
    },
    {
      "cell_type": "markdown",
      "metadata": {
        "id": "r-dYFVi-U0vf"
      },
      "source": [
        "####Initial Thoughts\n",
        "\n",
        "Ideally we'd like to combine the two data sets. Both have a job description that we can tokenize pretty easily. However, the challenge becomes in creating usable target variables. \n",
        "\n",
        "There is some sector information. So ideally we'd like the target variable to be a combination of the two. We could have two different models, one for sector, and one for job title, or make it one model for 'sector - job title'. However, the sector/industry data isn't present for Indeed like it is for Monster.\n",
        "\n",
        "Getting both datasets on the same page though will be difficult."
      ]
    },
    {
      "cell_type": "markdown",
      "metadata": {
        "id": "B6OlImy5X4sp"
      },
      "source": [
        "#### Quick exploration code\n"
      ]
    },
    {
      "cell_type": "code",
      "metadata": {
        "id": "QUbkiDiWX7Ad"
      },
      "source": [
        "## Indeed Data\n",
        "#dat_indeed.head()\n",
        "#dat_indeed.columns\n",
        "#dat_indeed['Job Description'][0] # Source for features\n",
        "#dat_indeed['Job Title'].value_counts()[0:50] # source for target variable\n",
        "\n",
        "## Monster Data\n",
        "#dat_monster.head()\n",
        "#dat_monster.columns\n",
        "#dat_monster['job_description'][0] # Source for features\n",
        "#dat_monster['job_title'].value_counts()[0:50] # Source for target variable\n",
        "#dat_monster['sector'].value_counts() # Source for target variable\n",
        "#dat_monster['organization'].value_counts() # Source for target variable\n",
        "\n"
      ],
      "execution_count": 69,
      "outputs": []
    },
    {
      "cell_type": "markdown",
      "metadata": {
        "id": "5EJkYlsGHgJE"
      },
      "source": [
        "## Clean Indeed Data\n",
        "\n",
        "'Job Description' holds the main text we'll need for creating features. We can use gensim to tokenize the job description as well as\n",
        "add some common bigrams. Alternatively we can use TFID.\n",
        "\n",
        "The bigger challenge will be getting the target variable in a \n"
      ]
    },
    {
      "cell_type": "markdown",
      "metadata": {
        "id": "xYcKOh7bfmZW"
      },
      "source": [
        "#### Creating Target Variable\n"
      ]
    },
    {
      "cell_type": "code",
      "metadata": {
        "id": "whFqhkr1fpID"
      },
      "source": [
        ""
      ],
      "execution_count": null,
      "outputs": []
    },
    {
      "cell_type": "markdown",
      "metadata": {
        "id": "fTb-9Ss3fjKV"
      },
      "source": [
        "#### Creating Features"
      ]
    },
    {
      "cell_type": "code",
      "metadata": {
        "id": "kEmvdHd4HMxP"
      },
      "source": [
        "\n",
        "from gensim.parsing.preprocessing import preprocess_string, STOPWORDS\n",
        "\n",
        "# Quick default tokenization of the job description\n",
        "dat_indeed['tokens'] = dat_indeed['Job Description'].apply(lambda x: preprocess_string(x))\n",
        "# Remove the stopwords\n",
        "dat_indeed['tokens'] = dat_indeed['tokens'].apply(lambda x: [words for words in x if not words in STOPWORDS])\n"
      ],
      "execution_count": 14,
      "outputs": []
    },
    {
      "cell_type": "code",
      "metadata": {
        "id": "ngX4CGidO_B_",
        "outputId": "8835ee84-d67a-491c-e148-d891c2282413",
        "colab": {
          "base_uri": "https://localhost:8080/"
        }
      },
      "source": [
        "\n"
      ],
      "execution_count": 30,
      "outputs": [
        {
          "output_type": "execute_result",
          "data": {
            "text/plain": [
              "Experienced (Non-Manager)                                                                                                                                                                                                                                                                                                                                                                                                                                                                                                                                                                                                                                                                                                                                                                                                                                                                                                                                                                                                                                                                                                                                                                                 4594\n",
              "Medical/Health                                                                                                                                                                                                                                                                                                                                                                                                                                                                                                                                                                                                                                                                                                                                                                                                                                                                                                                                                                                                                                                                                                                                                                                            1254\n",
              "Entry Level                                                                                                                                                                                                                                                                                                                                                                                                                                                                                                                                                                                                                                                                                                                                                                                                                                                                                                                                                                                                                                                                                                                                                                                               1172\n",
              "Sales/Retail/Business Development                                                                                                                                                                                                                                                                                                                                                                                                                                                                                                                                                                                                                                                                                                                                                                                                                                                                                                                                                                                                                                                                                                                                                                          938\n",
              "Manager (Manager/Supervisor of Staff)                                                                                                                                                                                                                                                                                                                                                                                                                                                                                                                                                                                                                                                                                                                                                                                                                                                                                                                                                                                                                                                                                                                                                                      900\n",
              "                                                                                                                                                                                                                                                                                                                                                                                                                                                                                                                                                                                                                                                                                                                                                                                                                                                                                                                                                                                                                                                                                                                                                                                                          ... \n",
              "Network and Server AdministrationSoftware/System ArchitectureSystems Analysis - IT                                                                                                                                                                                                                                                                                                                                                                                                                                                                                                                                                                                                                                                                                                                                                                                                                                                                                                                                                                                                                                                                                                                           1\n",
              "Business Development/New AccountsGeneral/Other: Sales/Business Development                                                                                                                                                                                                                                                                                                                                                                                                                                                                                                                                                                                                                                                                                                                                                                                                                                                                                                                                                                                                                                                                                                                                   1\n",
              "Database Development/AdministrationNetwork and Server Administration                                                                                                                                                                                                                                                                                                                                                                                                                                                                                                                                                                                                                                                                                                                                                                                                                                                                                                                                                                                                                                                                                                                                         1\n",
              "Demonstrate the highest level of leadership and ethical standards, with a drive to uphold our “Culture of Can Do” Possess a passion for the beauty industry with the desire to constantly learn and then teach our store personnel and customers about our products Display strong organizational and planning skills with the ability to multi-task, problem-solve and act independently Self-starter with a drive to continuously learn and develop in career Must be 18 years of age or older Must have 3+ year(s) of retail sales/customer service experience Must have 1+ year(s) of managerial experience Licensed cosmetologist desirable but not required Work where we treat you and our customers as a priority-- Employee discount Free samples of many of our new products Opportunities to grow your career within the company On-going product knowledge programs and customer experience coaching Work in an  environment focused on and surrounded by beauty   Qualified applicants will receive consideration for employment without regard to their race, color, age, religion, nation origin, sex, sexual orientation, disability or other categories protected by law.   MONPOST         1\n",
              "Patient Care Support/Nursing Assistant                                                                                                                                                                                                                                                                                                                                                                                                                                                                                                                                                                                                                                                                                                                                                                                                                                                                                                                                                                                                                                                                                                                                                                       1\n",
              "Name: sector, Length: 163, dtype: int64"
            ]
          },
          "metadata": {
            "tags": []
          },
          "execution_count": 30
        }
      ]
    },
    {
      "cell_type": "markdown",
      "metadata": {
        "id": "cuOkfclEcBzr"
      },
      "source": [
        "## Clean Monster Data\n",
        "\n",
        "The job-titles here have a lot of weird stuff going on. This includes have 'job' included almost all the time, and it also specifies the location. We'll need to strip both out so that we can get a better job title overlap"
      ]
    },
    {
      "cell_type": "markdown",
      "metadata": {
        "id": "H375-tg2fsr0"
      },
      "source": [
        "#### Creating Target Variable\n"
      ]
    },
    {
      "cell_type": "code",
      "metadata": {
        "id": "Pzjp13xefu4v",
        "outputId": "821b102c-20c1-42cd-ab7c-79ab24afa549",
        "colab": {
          "base_uri": "https://localhost:8080/"
        }
      },
      "source": [
        "dat_monster['job_title'].value_counts()[0:50] # Source for target variable\n",
        "#dat_monster['sector'].value_counts() # Source for target variable\n",
        "#dat_monster['organization'].value_counts() # Source for target variable"
      ],
      "execution_count": 68,
      "outputs": [
        {
          "output_type": "execute_result",
          "data": {
            "text/plain": [
              "Monster                                                                                                                                 318\n",
              "Shift Supervisor Job in Camphill                                                                                                        256\n",
              "RN                                                                                                                                       70\n",
              "Shift Supervisor - Part-Time Job in Camphill                                                                                             56\n",
              "Manager                                                                                                                                  50\n",
              "Please apply only if you are qualified.                                                                                                  31\n",
              "LEAD SALES ASSOCIATE-FT Job in Columbus                                                                                                  26\n",
              "ASST STORE MGR Job in Columbus                                                                                                           26\n",
              "SALES ASSOCIATE Job in Columbus                                                                                                          24\n",
              "LEAD SALES ASSOCIATE-PT Job in Columbus                                                                                                  24\n",
              "Director                                                                                                                                 23\n",
              "Manufacturing – Change Career to - Truck Driver – Entry Level                                                                            18\n",
              "Registered Nurse                                                                                                                         18\n",
              "Truck Driver – Entry Level ( CDL Not Required ) Transportation – Full Time                                                               18\n",
              "General Manager                                                                                                                          15\n",
              "Financial Advisor / Financial Sales Representative- Full Time Sales                                                                      15\n",
              "Personal Banker  Job in Dallas                                                                                                           14\n",
              "Staff Accountant Job in Dallas                                                                                                           14\n",
              "Senior Manager                                                                                                                           14\n",
              "Security Officer Job in Texas US body { margin:px; overflow: visible !important; } #ejb_header { color: #; font-family: Verdana          14\n",
              "Event Specialist Part Time Sales _PSS Job in Cincinnati                                                                                  13\n",
              "Security Officer Job in Georgia US body { margin:px; overflow: visible !important; } #ejb_header { color: #; font-family: Verdana        12\n",
              "Senior Accountant Job in Dallas                                                                                                          12\n",
              "Resident Care Specialist                                                                                                                 11\n",
              "Recruiter                                                                                                                                11\n",
              "Staff Accountant job in Dallas                                                                                                           11\n",
              "Project Manager Job in Columbus                                                                                                          10\n",
              "Full Time - Manager Trainee - No Weekends Job in Columbus                                                                                10\n",
              "Security Officer Job in California US body { margin:px; overflow: visible !important; } #ejb_header { color: #; font-family: Verdana      9\n",
              "TRUCK DRIVERS - No CDL? No Problem! We Train                                                                                              9\n",
              "Supervisor                                                                                                                                9\n",
              "Analyst                                                                                                                                   9\n",
              "Sales Representative Job in Dallas                                                                                                        9\n",
              "Associate                                                                                                                                 8\n",
              "Seasonal Holiday Retail Merchandising                                                                                                     8\n",
              "Associate Director                                                                                                                        8\n",
              "Registered Nurse - Surgical Services Job in Corpus Christi                                                                                8\n",
              "Project Manager Job in Chicago                                                                                                            7\n",
              "Customer Service Representative Job in Dallas                                                                                             7\n",
              "AUTOMOTIVE TECHNICIANS                                                                                                                    7\n",
              "Event Specialist Part Time Sales ACO Job in Chicago                                                                                       7\n",
              "Amec Foster Wheeler Environment & Infrastructure                                                                                          7\n",
              "Professional Maintenance and Cleaning Services                                                                                            7\n",
              "Seasonal Holiday Retail Sales                                                                                                             7\n",
              "Security Officer Job in Colorado US body { margin:px; overflow: visible !important; } #ejb_header { color: #; font-family: Verdana        7\n",
              "Registered Nurse - Centralized Staffing Job in Shreveport                                                                                 7\n",
              "Senior Associate                                                                                                                          7\n",
              "Driver Job in Cincinnati                                                                                                                  7\n",
              "CASHIER Job in Houston                                                                                                                    7\n",
              "GREAT CARE CAN BE TAUGHT. LEAD THE WAY.                                                                                                   7\n",
              "Name: job_title, dtype: int64"
            ]
          },
          "metadata": {
            "tags": []
          },
          "execution_count": 68
        }
      ]
    },
    {
      "cell_type": "markdown",
      "metadata": {
        "id": "CeEFtHtdfvZI"
      },
      "source": [
        "### Creating Features"
      ]
    },
    {
      "cell_type": "code",
      "metadata": {
        "id": "Zt4VaeaGeAnT"
      },
      "source": [
        "# Quick default tokenization of the job description\n",
        "dat_monster['tokens'] = dat_monster['job_description'].apply(lambda x: preprocess_string(x))\n",
        "# Remove the stopwords\n",
        "dat_monster['tokens'] = dat_monster['tokens'].apply(lambda x: [words for words in x if not words in STOPWORDS])\n"
      ],
      "execution_count": null,
      "outputs": []
    },
    {
      "cell_type": "markdown",
      "metadata": {
        "id": "E-QJVUWLf4Xb"
      },
      "source": [
        "## Combine the Data"
      ]
    }
  ]
}
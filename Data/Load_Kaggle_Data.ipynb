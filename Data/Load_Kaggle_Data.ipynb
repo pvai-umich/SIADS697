{
  "nbformat": 4,
  "nbformat_minor": 0,
  "metadata": {
    "colab": {
      "name": "Load Kaggle Data.ipynb",
      "provenance": [],
      "include_colab_link": true
    },
    "kernelspec": {
      "name": "python3",
      "display_name": "Python 3"
    },
    "language_info": {
      "name": "python"
    }
  },
  "cells": [
    {
      "cell_type": "markdown",
      "metadata": {
        "id": "view-in-github",
        "colab_type": "text"
      },
      "source": [
        "<a href=\"https://colab.research.google.com/github/pvai-umich/SIADS697/blob/main/Data/Load_Kaggle_Data.ipynb\" target=\"_parent\"><img src=\"https://colab.research.google.com/assets/colab-badge.svg\" alt=\"Open In Colab\"/></a>"
      ]
    },
    {
      "cell_type": "markdown",
      "metadata": {
        "id": "7zz8DZ2f8fTk"
      },
      "source": [
        "## Load Data\n",
        "\n",
        "This notebook will contain the data loading scripts for the two kaggle data sets."
      ]
    },
    {
      "cell_type": "markdown",
      "metadata": {
        "id": "7hK7ZH-DDaxx"
      },
      "source": [
        "Set up the Kaggle login and API key:"
      ]
    },
    {
      "cell_type": "code",
      "metadata": {
        "id": "S5hHtqsmDXO4"
      },
      "source": [
        "import os\n",
        "import zipfile\n",
        "import pandas as pd\n",
        "\n",
        "#comment\n",
        "\n",
        "os.environ['KAGGLE_USERNAME'] = \"pvaiciunas\" # username from the json file\n",
        "os.environ['KAGGLE_KEY'] = \"fba13e65a047582a90e611238731617e\" # key from the json file"
      ],
      "execution_count": null,
      "outputs": []
    },
    {
      "cell_type": "markdown",
      "metadata": {
        "id": "nW6UodHY9Y6S"
      },
      "source": [
        "## Kaggle Indeed Jobs Dataset\n",
        "\n",
        "Source:\n",
        "https://www.kaggle.com/promptcloud/indeed-job-posting-dataset\n",
        "\n",
        "The next code block will download the zip file, unzip, and read the csv file into a pandas dataframe."
      ]
    },
    {
      "cell_type": "code",
      "metadata": {
        "id": "n-EuzD-PDE1r"
      },
      "source": [
        "!kaggle datasets download -d promptcloud/indeed-job-posting-dataset # api copied from kaggle\n",
        "\n",
        "with zipfile.ZipFile('indeed-job-posting-dataset.zip', 'r') as zip_ref:\n",
        "    zip_ref.extractall('/content')\n",
        "\n",
        "dat_indeed = pd.read_csv(\"home/sdf/marketing_sample_for_trulia_com-real_estate__20190901_20191031__30k_data.csv\")\n"
      ],
      "execution_count": null,
      "outputs": []
    },
    {
      "cell_type": "markdown",
      "metadata": {
        "id": "zkLcYNBJDnHS"
      },
      "source": [
        "## Kaggle Monster Jobs Dataset\n",
        "\n",
        "Source:\n",
        "https://www.kaggle.com/PromptCloudHQ/us-jobs-on-monstercom\n",
        "\n",
        "The next code block will download the zip file, unzip, and read the csv file into a pandas dataframe."
      ]
    },
    {
      "cell_type": "code",
      "metadata": {
        "colab": {
          "base_uri": "https://localhost:8080/"
        },
        "id": "Bkw4ZPE_Cc7h",
        "outputId": "fd0bbe75-b30a-4591-aa4f-1e9ba279130a"
      },
      "source": [
        "!kaggle datasets download -d PromptCloudHQ/us-jobs-on-monstercom\n",
        "\n",
        "with zipfile.ZipFile('us-jobs-on-monstercom.zip', 'r') as zip_ref:\n",
        "    zip_ref.extractall('/content')\n",
        "\n",
        "dat_monster = pd.read_csv(\"monster_com-job_sample.csv\")"
      ],
      "execution_count": null,
      "outputs": [
        {
          "output_type": "stream",
          "text": [
            "home\t\t\t\tsample_data\n",
            "indeed-job-posting-dataset.zip\tus-jobs-on-monstercom.zip\n",
            "monster_com-job_sample.csv\n"
          ],
          "name": "stdout"
        }
      ]
    }
  ]
}
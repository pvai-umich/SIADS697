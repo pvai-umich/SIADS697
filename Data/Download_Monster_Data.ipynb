{
  "nbformat": 4,
  "nbformat_minor": 0,
  "metadata": {
    "colab": {
      "name": "Download Monster Data.ipynb",
      "provenance": [],
      "authorship_tag": "ABX9TyPdk6XX3QErrIE5fOP7BpWx",
      "include_colab_link": true
    },
    "kernelspec": {
      "name": "python3",
      "display_name": "Python 3"
    },
    "language_info": {
      "name": "python"
    }
  },
  "cells": [
    {
      "cell_type": "markdown",
      "metadata": {
        "id": "view-in-github",
        "colab_type": "text"
      },
      "source": [
        "<a href=\"https://colab.research.google.com/github/pvai-umich/SIADS697/blob/main/Data/Download_Monster_Data.ipynb\" target=\"_parent\"><img src=\"https://colab.research.google.com/assets/colab-badge.svg\" alt=\"Open In Colab\"/></a>"
      ]
    },
    {
      "cell_type": "markdown",
      "metadata": {
        "id": "zesFMO5Xr-dj"
      },
      "source": [
        "#Load Data\n",
        "This notebook will contain the data loading scripts for the two kaggle data sets.\n",
        "\n",
        "Set up the Kaggle login and API key:"
      ]
    },
    {
      "cell_type": "code",
      "metadata": {
        "id": "_0TvsnBCr9AV"
      },
      "source": [
        "import os\n",
        "import zipfile\n",
        "import pandas as pd\n",
        "\n",
        "#comment\n",
        "\n",
        "os.environ['KAGGLE_USERNAME'] = \"pvaiciunas\" # username from the json file\n",
        "os.environ['KAGGLE_KEY'] = \"fba13e65a047582a90e611238731617e\" # key from the json file"
      ],
      "execution_count": null,
      "outputs": []
    },
    {
      "cell_type": "markdown",
      "metadata": {
        "id": "1vG2Jj3RsIdM"
      },
      "source": [
        "#Kaggle Monster Jobs Dataset\n",
        "Source: https://www.kaggle.com/PromptCloudHQ/us-jobs-on-monstercom\n",
        "\n",
        "The next code block will download the zip file, unzip, and read the csv file into a pandas dataframe."
      ]
    },
    {
      "cell_type": "code",
      "metadata": {
        "id": "qtr304k-sMpT"
      },
      "source": [
        "!kaggle datasets download -d PromptCloudHQ/us-jobs-on-monstercom\n",
        "\n",
        "with zipfile.ZipFile('us-jobs-on-monstercom.zip', 'r') as zip_ref:\n",
        "    zip_ref.extractall('/content')\n",
        "\n",
        "dat_monster = pd.read_csv(\"monster_com-job_sample.csv\")"
      ],
      "execution_count": null,
      "outputs": []
    }
  ]
}